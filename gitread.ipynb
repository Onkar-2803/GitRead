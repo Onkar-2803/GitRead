{
 "cells": [
  {
   "cell_type": "code",
   "execution_count": 6,
   "metadata": {},
   "outputs": [
    {
     "name": "stdout",
     "output_type": "stream",
     "text": [
      "Collecting GitPython\n",
      "  Obtaining dependency information for GitPython from https://files.pythonhosted.org/packages/e9/bd/cc3a402a6439c15c3d4294333e13042b915bbeab54edc457c723931fed3f/GitPython-3.1.43-py3-none-any.whl.metadata\n",
      "  Using cached GitPython-3.1.43-py3-none-any.whl.metadata (13 kB)\n",
      "Collecting gitdb<5,>=4.0.1 (from GitPython)\n",
      "  Obtaining dependency information for gitdb<5,>=4.0.1 from https://files.pythonhosted.org/packages/fd/5b/8f0c4a5bb9fd491c277c21eff7ccae71b47d43c4446c9d0c6cff2fe8c2c4/gitdb-4.0.11-py3-none-any.whl.metadata\n",
      "  Using cached gitdb-4.0.11-py3-none-any.whl.metadata (1.2 kB)\n",
      "Collecting smmap<6,>=3.0.1 (from gitdb<5,>=4.0.1->GitPython)\n",
      "  Obtaining dependency information for smmap<6,>=3.0.1 from https://files.pythonhosted.org/packages/a7/a5/10f97f73544edcdef54409f1d839f6049a0d79df68adbc1ceb24d1aaca42/smmap-5.0.1-py3-none-any.whl.metadata\n",
      "  Using cached smmap-5.0.1-py3-none-any.whl.metadata (4.3 kB)\n",
      "Using cached GitPython-3.1.43-py3-none-any.whl (207 kB)\n",
      "Using cached gitdb-4.0.11-py3-none-any.whl (62 kB)\n",
      "Using cached smmap-5.0.1-py3-none-any.whl (24 kB)\n",
      "Installing collected packages: smmap, gitdb, GitPython\n",
      "Successfully installed GitPython-3.1.43 gitdb-4.0.11 smmap-5.0.1\n",
      "\n",
      "\u001b[1m[\u001b[0m\u001b[34;49mnotice\u001b[0m\u001b[1;39;49m]\u001b[0m\u001b[39;49m A new release of pip is available: \u001b[0m\u001b[31;49m23.2.1\u001b[0m\u001b[39;49m -> \u001b[0m\u001b[32;49m24.0\u001b[0m\n",
      "\u001b[1m[\u001b[0m\u001b[34;49mnotice\u001b[0m\u001b[1;39;49m]\u001b[0m\u001b[39;49m To update, run: \u001b[0m\u001b[32;49mpython3.11 -m pip install --upgrade pip\u001b[0m\n",
      "Note: you may need to restart the kernel to use updated packages.\n"
     ]
    }
   ],
   "source": [
    "%pip install GitPython"
   ]
  },
  {
   "cell_type": "code",
   "execution_count": 12,
   "metadata": {},
   "outputs": [],
   "source": [
    "import git\n",
    "from datetime import datetime, timezone"
   ]
  },
  {
   "cell_type": "code",
   "execution_count": 9,
   "metadata": {},
   "outputs": [],
   "source": [
    "\n",
    "def get_commit_timestamp(repo_path, commit_hash):\n",
    "    try:\n",
    "        repo = git.Repo(repo_path)\n",
    "        commit = repo.commit(commit_hash)\n",
    "        timestamp = commit.committed_date\n",
    "        return timestamp\n",
    "    except git.InvalidGitRepositoryError:\n",
    "        print(\"Invalid Git repository.\")\n",
    "    except git.BadName:\n",
    "        print(\"Invalid commit hash.\")\n"
   ]
  },
  {
   "cell_type": "code",
   "execution_count": 13,
   "metadata": {},
   "outputs": [
    {
     "name": "stdout",
     "output_type": "stream",
     "text": [
      "Timestamp of commit 3542d59e54882aa21419b233a1d99f6335224271: 1712538327\n",
      "2024-04-08 01:05:27 UTC\n"
     ]
    }
   ],
   "source": [
    "# Example usage\n",
    "repo_path = \"/Users/onkar/Documents/Code/GitRead/GitRead\"\n",
    "commit_hash = \"3542d59e54882aa21419b233a1d99f6335224271\"  # Replace this with the actual commit hash\n",
    "timestamp = get_commit_timestamp(repo_path, commit_hash)\n",
    "if timestamp:\n",
    "    print(f\"Timestamp of commit {commit_hash}: {timestamp}\")\n",
    "    timestamp = datetime.fromtimestamp(timestamp, tz=timezone.utc)\n",
    "    formatted_timestamp = timestamp.strftime('%Y-%m-%d %H:%M:%S UTC')\n",
    "\n",
    "print(formatted_timestamp)\n",
    "    "
   ]
  },
  {
   "cell_type": "code",
   "execution_count": 14,
   "metadata": {},
   "outputs": [
    {
     "name": "stdout",
     "output_type": "stream",
     "text": [
      "Timestamp of commit 40690ef8a3933ec0a6feae94bbc3a55e9a7ba167: 1712538392\n",
      "2024-04-08 01:06:32 UTC\n"
     ]
    }
   ],
   "source": [
    "# Example usage\n",
    "repo_path = \"/Users/onkar/Documents/Code/GitRead/GitRead\"\n",
    "commit_hash = \"40690ef8a3933ec0a6feae94bbc3a55e9a7ba167\"  # Replace this with the actual commit hash\n",
    "timestamp = get_commit_timestamp(repo_path, commit_hash)\n",
    "if timestamp:\n",
    "    print(f\"Timestamp of commit {commit_hash}: {timestamp}\")\n",
    "    timestamp = datetime.fromtimestamp(timestamp, tz=timezone.utc)\n",
    "    formatted_timestamp = timestamp.strftime('%Y-%m-%d %H:%M:%S UTC')\n",
    "\n",
    "print(formatted_timestamp)\n",
    "    "
   ]
  },
  {
   "cell_type": "code",
   "execution_count": null,
   "metadata": {},
   "outputs": [],
   "source": []
  }
 ],
 "metadata": {
  "kernelspec": {
   "display_name": "swe-bench",
   "language": "python",
   "name": "python3"
  },
  "language_info": {
   "codemirror_mode": {
    "name": "ipython",
    "version": 3
   },
   "file_extension": ".py",
   "mimetype": "text/x-python",
   "name": "python",
   "nbconvert_exporter": "python",
   "pygments_lexer": "ipython3",
   "version": "3.11.4"
  }
 },
 "nbformat": 4,
 "nbformat_minor": 2
}
