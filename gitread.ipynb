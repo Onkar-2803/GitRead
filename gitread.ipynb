{
 "cells": [
  {
   "cell_type": "code",
   "execution_count": 6,
   "metadata": {},
   "outputs": [
    {
     "name": "stdout",
     "output_type": "stream",
     "text": [
      "Collecting GitPython\n",
      "  Obtaining dependency information for GitPython from https://files.pythonhosted.org/packages/e9/bd/cc3a402a6439c15c3d4294333e13042b915bbeab54edc457c723931fed3f/GitPython-3.1.43-py3-none-any.whl.metadata\n",
      "  Using cached GitPython-3.1.43-py3-none-any.whl.metadata (13 kB)\n",
      "Collecting gitdb<5,>=4.0.1 (from GitPython)\n",
      "  Obtaining dependency information for gitdb<5,>=4.0.1 from https://files.pythonhosted.org/packages/fd/5b/8f0c4a5bb9fd491c277c21eff7ccae71b47d43c4446c9d0c6cff2fe8c2c4/gitdb-4.0.11-py3-none-any.whl.metadata\n",
      "  Using cached gitdb-4.0.11-py3-none-any.whl.metadata (1.2 kB)\n",
      "Collecting smmap<6,>=3.0.1 (from gitdb<5,>=4.0.1->GitPython)\n",
      "  Obtaining dependency information for smmap<6,>=3.0.1 from https://files.pythonhosted.org/packages/a7/a5/10f97f73544edcdef54409f1d839f6049a0d79df68adbc1ceb24d1aaca42/smmap-5.0.1-py3-none-any.whl.metadata\n",
      "  Using cached smmap-5.0.1-py3-none-any.whl.metadata (4.3 kB)\n",
      "Using cached GitPython-3.1.43-py3-none-any.whl (207 kB)\n",
      "Using cached gitdb-4.0.11-py3-none-any.whl (62 kB)\n",
      "Using cached smmap-5.0.1-py3-none-any.whl (24 kB)\n",
      "Installing collected packages: smmap, gitdb, GitPython\n",
      "Successfully installed GitPython-3.1.43 gitdb-4.0.11 smmap-5.0.1\n",
      "\n",
      "\u001b[1m[\u001b[0m\u001b[34;49mnotice\u001b[0m\u001b[1;39;49m]\u001b[0m\u001b[39;49m A new release of pip is available: \u001b[0m\u001b[31;49m23.2.1\u001b[0m\u001b[39;49m -> \u001b[0m\u001b[32;49m24.0\u001b[0m\n",
      "\u001b[1m[\u001b[0m\u001b[34;49mnotice\u001b[0m\u001b[1;39;49m]\u001b[0m\u001b[39;49m To update, run: \u001b[0m\u001b[32;49mpython3.11 -m pip install --upgrade pip\u001b[0m\n",
      "Note: you may need to restart the kernel to use updated packages.\n"
     ]
    }
   ],
   "source": [
    "%pip install GitPython"
   ]
  },
  {
   "cell_type": "code",
   "execution_count": 117,
   "metadata": {},
   "outputs": [
    {
     "name": "stdout",
     "output_type": "stream",
     "text": [
      "Requirement already satisfied: packaging in /Users/onkar/Library/Python/3.11/lib/python/site-packages (23.1)\n",
      "\n",
      "\u001b[1m[\u001b[0m\u001b[34;49mnotice\u001b[0m\u001b[1;39;49m]\u001b[0m\u001b[39;49m A new release of pip is available: \u001b[0m\u001b[31;49m23.2.1\u001b[0m\u001b[39;49m -> \u001b[0m\u001b[32;49m24.0\u001b[0m\n",
      "\u001b[1m[\u001b[0m\u001b[34;49mnotice\u001b[0m\u001b[1;39;49m]\u001b[0m\u001b[39;49m To update, run: \u001b[0m\u001b[32;49mpython3.11 -m pip install --upgrade pip\u001b[0m\n",
      "Note: you may need to restart the kernel to use updated packages.\n"
     ]
    }
   ],
   "source": [
    "%pip install packaging"
   ]
  },
  {
   "cell_type": "code",
   "execution_count": 138,
   "metadata": {},
   "outputs": [],
   "source": [
    "import git\n",
    "from datetime import datetime, timezone\n",
    "import requests\n",
    "from datetime import datetime\n",
    "import re\n",
    "from packaging import version"
   ]
  },
  {
   "cell_type": "code",
   "execution_count": 139,
   "metadata": {},
   "outputs": [],
   "source": [
    "\n",
    "def get_commit_timestamp(repo_path, commit_hash):\n",
    "    try:\n",
    "        repo = git.Repo(repo_path)\n",
    "        commit = repo.commit(commit_hash)\n",
    "        timestamp = commit.committed_date\n",
    "        return timestamp\n",
    "    except git.InvalidGitRepositoryError:\n",
    "        print(\"Invalid Git repository.\")\n",
    "    except git.BadName:\n",
    "        print(\"Invalid commit hash.\")\n"
   ]
  },
  {
   "cell_type": "code",
   "execution_count": 144,
   "metadata": {},
   "outputs": [],
   "source": [
    "def get_package_version(package_name, date):\n",
    "    date = datetime.strptime(date, '%Y-%m-%d')\n",
    "    url = f'https://pypi.org/pypi/{package_name}/json'\n",
    "    response = requests.get(url)\n",
    "\n",
    "    if response.status_code == 200:\n",
    "        data = response.json()\n",
    "        releases = data['releases']\n",
    "        new_releases = dict(sorted(releases.items(), key=lambda item: version.parse(item[0]), reverse=True))\n",
    "        for version_, release_info in new_releases.items():\n",
    "            for file_info in release_info:\n",
    "                upload_time = file_info['upload_time']\n",
    "                upload_time = datetime.strptime(upload_time, '%Y-%m-%dT%H:%M:%S')\n",
    "                if upload_time <= date:\n",
    "                    return version_\n",
    "\n",
    "        return None\n",
    "    else:\n",
    "        raise Exception(f'Failed to fetch package information for {package_name}')"
   ]
  },
  {
   "cell_type": "code",
   "execution_count": 145,
   "metadata": {},
   "outputs": [],
   "source": [
    "def get_dependencies_from_requirements(file_path):\n",
    "    dependencies = []\n",
    "    with open(file_path, 'r') as file:\n",
    "        for line in file:\n",
    "            # Use regex to match lines containing package names in requirements.txt format\n",
    "            match = re.match(r'^\\s*([a-zA-Z0-9_-]+)\\s*(?:==.*|\\n)?$', line)\n",
    "            if match:\n",
    "                dependencies.append(match.group(1))\n",
    "    return dependencies"
   ]
  },
  {
   "cell_type": "code",
   "execution_count": 146,
   "metadata": {},
   "outputs": [],
   "source": [
    "requirements_file = 'requirements.txt'\n",
    "dependency_names = get_dependencies_from_requirements(requirements_file)"
   ]
  },
  {
   "cell_type": "code",
   "execution_count": 147,
   "metadata": {},
   "outputs": [
    {
     "name": "stdout",
     "output_type": "stream",
     "text": [
      "Timestamp of commit 3542d59e54882aa21419b233a1d99f6335224271: 2024-04-08 01:05:27 UTC\n",
      "The version of numpy at 2024-04-08 was 2.0.0rc1\n",
      "The version of pandas at 2024-04-08 was 2.2.1\n",
      "The version of matplotlib at 2024-04-08 was 3.8.4\n",
      "The version of scikit-learn at 2024-04-08 was 1.4.1.post1\n",
      "The version of tensorflow at 2024-04-08 was 2.16.1\n"
     ]
    }
   ],
   "source": [
    "repo_path = \"/Users/onkar/Documents/Code/GitRead/GitRead\"\n",
    "commit_hash = \"3542d59e54882aa21419b233a1d99f6335224271\" \n",
    "timestamp = get_commit_timestamp(repo_path, commit_hash)\n",
    "\n",
    "if timestamp:\n",
    "    timestamp = datetime.fromtimestamp(timestamp, tz=timezone.utc)\n",
    "    formatted_timestamp = timestamp.strftime('%Y-%m-%d %H:%M:%S UTC')\n",
    "    date_str = formatted_timestamp.split(' ')[0]\n",
    "    print(f\"Timestamp of commit {commit_hash}: {formatted_timestamp}\")\n",
    "    \n",
    "    for package_name in dependency_names:\n",
    "        version_ = get_package_version(package_name, date_str)\n",
    "        if version_:\n",
    "            print(f'The version of {package_name} at {date_str} was {version_}')\n",
    "        else:\n",
    "            print(f'No suitable version of {package_name} was found before {date_str}')"
   ]
  }
 ],
 "metadata": {
  "kernelspec": {
   "display_name": "swe-bench",
   "language": "python",
   "name": "python3"
  },
  "language_info": {
   "codemirror_mode": {
    "name": "ipython",
    "version": 3
   },
   "file_extension": ".py",
   "mimetype": "text/x-python",
   "name": "python",
   "nbconvert_exporter": "python",
   "pygments_lexer": "ipython3",
   "version": "3.11.4"
  }
 },
 "nbformat": 4,
 "nbformat_minor": 2
}
